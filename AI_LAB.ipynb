{
  "nbformat": 4,
  "nbformat_minor": 0,
  "metadata": {
    "colab": {
      "provenance": [],
      "authorship_tag": "ABX9TyP2HiNcODDTcn60Ql0FlKQa",
      "include_colab_link": true
    },
    "kernelspec": {
      "name": "python3",
      "display_name": "Python 3"
    },
    "language_info": {
      "name": "python"
    }
  },
  "cells": [
    {
      "cell_type": "markdown",
      "metadata": {
        "id": "view-in-github",
        "colab_type": "text"
      },
      "source": [
        "<a href=\"https://colab.research.google.com/github/2403A51229/1.2_assignment_2403A51229/blob/main/AI_LAB.ipynb\" target=\"_parent\"><img src=\"https://colab.research.google.com/assets/colab-badge.svg\" alt=\"Open In Colab\"/></a>"
      ]
    },
    {
      "cell_type": "markdown",
      "source": [
        "task_01:"
      ],
      "metadata": {
        "id": "u2f-6WGxW8IL"
      }
    },
    {
      "cell_type": "code",
      "execution_count": 13,
      "metadata": {
        "colab": {
          "base_uri": "https://localhost:8080/"
        },
        "id": "Psvsdvg1RBWQ",
        "outputId": "131ddb2b-592a-4569-a369-b5a694b28489"
      },
      "outputs": [
        {
          "output_type": "stream",
          "name": "stdout",
          "text": [
            "Name: Aisha\n",
            "Roll Number: 101\n",
            "Marks: 85\n",
            "True\n",
            "False\n"
          ]
        }
      ],
      "source": [
        "class student:\n",
        "    def __init__(self,name,roll_number,marks):\n",
        "        self.name=name\n",
        "        self.roll_number=roll_number\n",
        "        self.marks=marks\n",
        "    #method to display student details\n",
        "    def display(self):\n",
        "        print(\"Name:\",self.name)\n",
        "        print(\"Roll Number:\",self.roll_number)\n",
        "        print(\"Marks:\",self.marks)\n",
        "    #method to check if student has passed(marks >=40)\n",
        "    def has_passed(self):\n",
        "        return self.marks>= 40\n",
        "s1=student(\"Aisha\",101,85)\n",
        "s2=student(\"Ravi\",102,39)\n",
        "s1.display()\n",
        "print(s1.has_passed())\n",
        "print(s2.has_passed())"
      ]
    },
    {
      "cell_type": "markdown",
      "source": [
        "task_02:"
      ],
      "metadata": {
        "id": "qg-uaZg8XDsj"
      }
    },
    {
      "cell_type": "code",
      "source": [
        "numbers = [1,2,3,4,5,6]\n",
        "# iterate through numbers\n",
        "for n in numbers:\n",
        "  #print square of even numbers only\n",
        "  if n % 2 == 0:\n",
        "    print(f\"square of {n} = {n**2}\")\n"
      ],
      "metadata": {
        "colab": {
          "base_uri": "https://localhost:8080/"
        },
        "id": "Z-CYLX6fXCOZ",
        "outputId": "22f25da2-ce0d-492f-a20b-5bf60472a643"
      },
      "execution_count": 14,
      "outputs": [
        {
          "output_type": "stream",
          "name": "stdout",
          "text": [
            "square of 2 = 4\n",
            "square of 4 = 16\n",
            "square of 6 = 36\n"
          ]
        }
      ]
    },
    {
      "cell_type": "markdown",
      "source": [
        "task_03:"
      ],
      "metadata": {
        "id": "PIiqHuOCeCHf"
      }
    },
    {
      "cell_type": "code",
      "source": [
        "class BankAccount:\n",
        "    def __init__(self, account_holder , balance=0):\n",
        "        self.account_holder = account_holder\n",
        "        self.balance = balance\n",
        "\n",
        "    def deposit(self, amount):\n",
        "            self.balance += amount\n",
        "            print(f\"Deposited {amount}. balance: ₹{self.balance}.\")\n",
        "\n",
        "    def withdraw(self, amount):\n",
        "        if amount <= self.balance:\n",
        "            self.balance -= amount\n",
        "            print(f\"Withdrew ₹{amount}. balance: ₹{self.balance}.\")\n",
        "        else:\n",
        "            print(\"Insufficient balance!\")\n",
        "\n",
        "    def display_balance(self):\n",
        "        print(f\"Account holder: {self.account_holder}, Balance: ₹{self.balance}\")\n",
        "\n",
        "# Example usage:\n",
        "acc = BankAccount(\"Ravi\", 500)\n",
        "acc.deposit(200)\n",
        "acc.withdraw(900)\n",
        "acc.display_balance()"
      ],
      "metadata": {
        "colab": {
          "base_uri": "https://localhost:8080/"
        },
        "id": "PY3U30GjeBPO",
        "outputId": "282fbfc5-4895-443c-f1be-80e44bd2ae72"
      },
      "execution_count": 15,
      "outputs": [
        {
          "output_type": "stream",
          "name": "stdout",
          "text": [
            "Deposited 200. balance: ₹700.\n",
            "Insufficient balance!\n",
            "Account holder: Ravi, Balance: ₹700\n"
          ]
        }
      ]
    },
    {
      "cell_type": "markdown",
      "source": [
        "task_04:"
      ],
      "metadata": {
        "id": "_nad5cMUgLXf"
      }
    },
    {
      "cell_type": "code",
      "source": [
        "students = [\n",
        "    {\"name\": \"Aish\", \"score\": 88},\n",
        "    {\"name\": \"Rohith\", \"score\": 67},\n",
        "    {\"name\": \"Vikram\", \"score\": 92},\n",
        "]\n",
        "\n",
        "i = 0\n",
        "while i < len(students):\n",
        "    if students[i][\"score\"] > 75:\n",
        "        print(\"High scorer:\", students[i][\"name\"])\n",
        "    i += 1"
      ],
      "metadata": {
        "colab": {
          "base_uri": "https://localhost:8080/"
        },
        "id": "_uOnqPjMgJAH",
        "outputId": "653b15e8-cef3-4e90-f3a4-79298159254b"
      },
      "execution_count": 16,
      "outputs": [
        {
          "output_type": "stream",
          "name": "stdout",
          "text": [
            "High scorer: Aish\n",
            "High scorer: Vikram\n"
          ]
        }
      ]
    },
    {
      "cell_type": "markdown",
      "source": [
        "task_05:"
      ],
      "metadata": {
        "id": "czd6QusfhwOq"
      }
    },
    {
      "cell_type": "code",
      "source": [
        "class shoppingcart:\n",
        "    def __init__(self):\n",
        "        self.items = []  # each item is a dict: {\"name\": str, \"price\": float}\n",
        "\n",
        "    def add_item(self, name, price):\n",
        "        self.items.append({\"name\": name, \"price\": price})\n",
        "        print(f\"{name} added for ₹{price}\")\n",
        "\n",
        "    def remove_item(self, name):\n",
        "        self.items = [item for item in self.items if item[\"name\"] != name]\n",
        "        print(f\"{name} removed.\")\n",
        "\n",
        "    def total_bill(self):\n",
        "        total = 0\n",
        "        for item in self.items:\n",
        "            total += item[\"price\"]\n",
        "        # apply 10% discount if bill > 1000\n",
        "        if total > 1000:\n",
        "            print(\"10% discount applied.\")\n",
        "            total *= 0.9\n",
        "        return total\n",
        "# Example\n",
        "cart = shoppingcart()\n",
        "cart.add_item(\"Shoes\", 1200)\n",
        "cart.add_item(\"Socks\", 200)\n",
        "print(\"Total bill:\", cart.total_bill())\n",
        "cart.remove_item(\"Socks\")\n",
        "print(\"New bill:\", cart.total_bill())"
      ],
      "metadata": {
        "colab": {
          "base_uri": "https://localhost:8080/"
        },
        "id": "NDT81uhkhvtu",
        "outputId": "c3e0a840-c700-4594-b9d6-ccb0f54cabc1"
      },
      "execution_count": 19,
      "outputs": [
        {
          "output_type": "stream",
          "name": "stdout",
          "text": [
            "Shoes added for ₹1200\n",
            "Socks added for ₹200\n",
            "10% discount applied.\n",
            "Total bill: 1260.0\n",
            "Socks removed.\n",
            "10% discount applied.\n",
            "New bill: 1080.0\n"
          ]
        }
      ]
    }
  ]
}