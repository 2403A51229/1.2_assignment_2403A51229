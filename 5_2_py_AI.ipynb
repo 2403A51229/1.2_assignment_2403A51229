{
  "nbformat": 4,
  "nbformat_minor": 0,
  "metadata": {
    "colab": {
      "provenance": [],
      "authorship_tag": "ABX9TyNNoz3DAYQjnC2wIXSmgPLj",
      "include_colab_link": true
    },
    "kernelspec": {
      "name": "python3",
      "display_name": "Python 3"
    },
    "language_info": {
      "name": "python"
    }
  },
  "cells": [
    {
      "cell_type": "markdown",
      "metadata": {
        "id": "view-in-github",
        "colab_type": "text"
      },
      "source": [
        "<a href=\"https://colab.research.google.com/github/2403A51229/1.2_assignment_2403A51229/blob/main/5_2_py_AI.ipynb\" target=\"_parent\"><img src=\"https://colab.research.google.com/assets/colab-badge.svg\" alt=\"Open In Colab\"/></a>"
      ]
    },
    {
      "cell_type": "markdown",
      "source": [
        "Task_01:"
      ],
      "metadata": {
        "id": "ezyJwtTQ7TDY"
      }
    },
    {
      "cell_type": "code",
      "source": [
        "# Write a python code of a login system that allows users to register with a username and password, and then log in using those credentials. The system should store the user data in a dictionary.\n",
        "# Define a dictionary to store user data\n",
        "user_data = {}\n",
        "# Function to register a new user\n",
        "def register():\n",
        "    username = input(\"Enter a username: \")\n",
        "    if username in user_data:\n",
        "        print(\"Username already exists. Please choose a different username.\")\n",
        "        return\n",
        "    password = input(\"Enter a password: \")\n",
        "    user_data[username] = password\n",
        "    print(\"Registration successful!\")\n",
        "# Function to log in an existing user\n",
        "def login():\n",
        "    username = input(\"Enter your username: \")\n",
        "    if username not in user_data:\n",
        "        print(\"Username not found. Please register first.\")\n",
        "        return\n",
        "    password = input(\"Enter your password: \")\n",
        "    if user_data[username] == password:\n",
        "        print(\"Login successful!\")\n",
        "    else:\n",
        "        print(\"Incorrect password. Please try again.\")\n",
        "# Main function to run the login system\n",
        "def main():\n",
        "    while True:\n",
        "        choice = input(\"Do you want to (1) Register or (2) Login? (Enter 'exit' to quit): \")\n",
        "        if choice == '1':\n",
        "            register()\n",
        "        elif choice == '2':\n",
        "            login()\n",
        "        elif choice.lower() == 'exit':\n",
        "            print(\"Exiting the system. Goodbye!\")\n",
        "            break\n",
        "        else:\n",
        "            print(\"Invalid choice. Please enter 1, 2, or 'exit'.\")\n",
        "if __name__ == \"__main__\":\n",
        "    main()"
      ],
      "metadata": {
        "colab": {
          "base_uri": "https://localhost:8080/"
        },
        "id": "uTvRU_1NI_8T",
        "outputId": "43f7d35d-27bd-4a16-f140-59028941b410"
      },
      "execution_count": 3,
      "outputs": [
        {
          "output_type": "stream",
          "name": "stdout",
          "text": [
            "Do you want to (1) Register or (2) Login? (Enter 'exit' to quit): register\n",
            "Invalid choice. Please enter 1, 2, or 'exit'.\n",
            "Do you want to (1) Register or (2) Login? (Enter 'exit' to quit): 1\n",
            "Enter a username: pooja\n",
            "Enter a password: pooja08\n",
            "Registration successful!\n",
            "Do you want to (1) Register or (2) Login? (Enter 'exit' to quit): 2\n",
            "Enter your username: pooja\n",
            "Enter your password: pooja08\n",
            "Login successful!\n",
            "Do you want to (1) Register or (2) Login? (Enter 'exit' to quit): exit\n",
            "Exiting the system. Goodbye!\n"
          ]
        }
      ]
    },
    {
      "cell_type": "markdown",
      "source": [
        "# Write a python code of a login system that allows users to register with a username and password, and then log in using those credentials. The system should store the user data in a dictionary.\n",
        "# Define a dictionary to store user data\n",
        "user_data = {}\n",
        "# Function to register a new user\n",
        "def register():\n",
        "    username = input(\"Enter a username: \")\n",
        "    if username in user_data:\n",
        "        print(\"Username already exists. Please choose a different username.\")\n",
        "        return\n",
        "    password = input(\"Enter a password: \")\n",
        "    user_data[username] = password\n",
        "    print(\"Registration successful!\")\n",
        "# Function to log in an existing user\n",
        "def login():\n",
        "    username = input(\"Enter your username: \")\n",
        "    if username not in user_data:\n",
        "        print(\"Username not found. Please register first.\")\n",
        "        return\n",
        "    password = input(\"Enter your password: \")\n",
        "    if user_data[username] == password:\n",
        "        print(\"Login successful!\")\n",
        "    else:\n",
        "        print(\"Incorrect password. Please try again.\")\n",
        "# Main function to run the login system\n",
        "def main():\n",
        "    while True:\n",
        "        choice = input(\"Do you want to (1) Register or (2) Login? (Enter 'exit' to quit): \")\n",
        "        if choice == '1':\n",
        "            register()\n",
        "        elif choice == '2':\n",
        "            login()\n",
        "        elif choice.lower() == 'exit':\n",
        "            print(\"Exiting the system. Goodbye!\")\n",
        "            break\n",
        "        else:\n",
        "            print(\"Invalid choice. Please enter 1, 2, or 'exit'.\")\n",
        "if __name__ == \"__main__\":\n",
        "    main()"
      ],
      "metadata": {
        "id": "FiI5P92UIodR"
      }
    },
    {
      "cell_type": "markdown",
      "source": [
        "Task_02:"
      ],
      "metadata": {
        "id": "ouinVDUsLFbK"
      }
    },
    {
      "cell_type": "code",
      "source": [
        "def check_loan_eligibility(age, income, credit_score, loan_amount):\n",
        "    # Define eligibility criteria (these are example criteria, can be adjusted)\n",
        "    min_age = 18\n",
        "    min_income = 30000\n",
        "    min_credit_score = 600\n",
        "    max_loan_to_income_ratio = 0.4\n",
        "\n",
        "    # Check eligibility\n",
        "    if age < min_age:\n",
        "        return \"Loan Rejected: Applicant is below the minimum age.\"\n",
        "    if income < min_income:\n",
        "        return \"Loan Rejected: Applicant's income is below the minimum requirement.\"\n",
        "    if credit_score < min_credit_score:\n",
        "        return \"Loan Rejected: Applicant's credit score is below the minimum requirement.\"\n",
        "    if loan_amount / income > max_loan_to_income_ratio:\n",
        "        return \"Loan Rejected: Loan amount exceeds the maximum allowed based on income.\"\n",
        "\n",
        "    # If all criteria are met\n",
        "    return \"Loan Approved: Applicant is eligible for the loan.\"\n",
        "\n",
        "# Example usage for John:\n",
        "john_age = int(input(\"Enter the age: \"))\n",
        "john_income = int(input(\"Enter the income: \"))\n",
        "john_credit_score = int(input(\"Enter the credit score: \"))\n",
        "john_loan_amount = int(input(\"Enter the loan amount: \"))\n",
        "\n",
        "eligibility_status = check_loan_eligibility(john_age, john_income, john_credit_score, john_loan_amount)\n",
        "print(f\"John's loan application status: {eligibility_status}\")"
      ],
      "metadata": {
        "colab": {
          "base_uri": "https://localhost:8080/"
        },
        "id": "wXouvkZWJ-Zz",
        "outputId": "19e2ae56-ab1b-4b5b-ba95-9364adbaae20"
      },
      "execution_count": 6,
      "outputs": [
        {
          "output_type": "stream",
          "name": "stdout",
          "text": [
            "Enter the age: 18\n",
            "Enter the income: 30000\n",
            "Enter the credit score: 600\n",
            "Enter the loan amount: 10000\n",
            "John's loan application status: Loan Approved: Applicant is eligible for the loan.\n"
          ]
        }
      ]
    },
    {
      "cell_type": "markdown",
      "source": [
        "def check_loan_eligibility(age, income, credit_score, loan_amount):\n",
        "    # Define eligibility criteria (these are example criteria, can be adjusted)\n",
        "    min_age = 18\n",
        "    min_income = 30000\n",
        "    min_credit_score = 600\n",
        "    max_loan_to_income_ratio = 0.4\n",
        "\n",
        "    # Check eligibility\n",
        "    if age < min_age:\n",
        "        return \"Loan Rejected: Applicant is below the minimum age.\"\n",
        "    if income < min_income:\n",
        "        return \"Loan Rejected: Applicant's income is below the minimum requirement.\"\n",
        "    if credit_score < min_credit_score:\n",
        "        return \"Loan Rejected: Applicant's credit score is below the minimum requirement.\"\n",
        "    if loan_amount / income > max_loan_to_income_ratio:\n",
        "        return \"Loan Rejected: Loan amount exceeds the maximum allowed based on income.\"\n",
        "\n",
        "    # If all criteria are met\n",
        "    return \"Loan Approved: Applicant is eligible for the loan.\"\n",
        "\n",
        "# Example usage for John:\n",
        "john_age = int(input(\"Enter the age: \"))\n",
        "john_income = int(input(\"Enter the income: \"))\n",
        "john_credit_score = int(input(\"Enter the credit score: \"))\n",
        "john_loan_amount = int(input(\"Enter the loan amount: \"))\n",
        "\n",
        "eligibility_status = check_loan_eligibility(john_age, john_income, john_credit_score, john_loan_amount)\n",
        "print(f\"John's loan application status: {eligibility_status}\")"
      ],
      "metadata": {
        "id": "LaSCOuLSLim4"
      }
    },
    {
      "cell_type": "markdown",
      "source": [
        "Task_03:"
      ],
      "metadata": {
        "id": "_1aifqf0MLQ3"
      }
    },
    {
      "cell_type": "code",
      "source": [
        "def fibonacci_recursive(n):\n",
        "  # Base case 1: If n is 0, the Fibonacci number is 0.\n",
        "  if n == 0:\n",
        "    return 0\n",
        "  # Base case 2: If n is 1, the Fibonacci number is 1.\n",
        "  elif n == 1:\n",
        "    return 1\n",
        "  # Recursive step: For n > 1, the Fibonacci number is the sum of the previous two Fibonacci numbers.\n",
        "  else:\n",
        "    return fibonacci_recursive(n - 1) + fibonacci_recursive(n - 2)\n",
        "\n",
        "# Example usage:\n",
        "n_value = int(input(\"Enter a value: \"))  # Change this to the desired Fibonacci number position\n",
        "fib_number = fibonacci_recursive(n_value)\n",
        "print(f\"The {n_value}th Fibonacci number is: {fib_number}\")"
      ],
      "metadata": {
        "colab": {
          "base_uri": "https://localhost:8080/"
        },
        "id": "39JVnKWSMOOL",
        "outputId": "9897b7b1-a31c-4f0c-e3ba-3d42e308e63d"
      },
      "execution_count": 7,
      "outputs": [
        {
          "output_type": "stream",
          "name": "stdout",
          "text": [
            "Enter a value: 20\n",
            "The 20th Fibonacci number is: 6765\n"
          ]
        }
      ]
    },
    {
      "cell_type": "markdown",
      "source": [
        "def fibonacci_recursive(n):\n",
        "  # Base case 1: If n is 0, the Fibonacci number is 0.\n",
        "  if n == 0:\n",
        "    return 0\n",
        "  # Base case 2: If n is 1, the Fibonacci number is 1.\n",
        "  elif n == 1:\n",
        "    return 1\n",
        "  # Recursive step: For n > 1, the Fibonacci number is the sum of the previous two Fibonacci numbers.\n",
        "  else:\n",
        "    return fibonacci_recursive(n - 1) + fibonacci_recursive(n - 2)\n",
        "\n",
        "# Example usage:\n",
        "n_value = int(input(\"Enter a value: \"))  # Change this to the desired Fibonacci number position\n",
        "fib_number = fibonacci_recursive(n_value)\n",
        "print(f\"The {n_value}th Fibonacci number is: {fib_number}\")"
      ],
      "metadata": {
        "id": "bFOEtnTFMSow"
      }
    },
    {
      "cell_type": "markdown",
      "source": [
        "Task_04:"
      ],
      "metadata": {
        "id": "kJV1SEc5Ma-_"
      }
    },
    {
      "cell_type": "code",
      "source": [
        "def score_applicant(applicant):\n",
        "    score = 0\n",
        "    if applicant['education'] in ['Masters', 'PhD']:\n",
        "        score += 30\n",
        "    score += min(applicant['experience'] * 5, 30)  # cap at 30\n",
        "    # Gender & age excluded unless role requires justified constraint\n",
        "    return score\n",
        "\n",
        "# Example usage:\n",
        "applicant1 = {\n",
        "    'education': 'Masters',\n",
        "    'experience': 7, # years\n",
        "    'gender': 'Female',\n",
        "    'age': 30\n",
        "}\n",
        "\n",
        "applicant2 = {\n",
        "    'education': 'Bachelors',\n",
        "    'experience': 3, # years\n",
        "    'gender': 'Male',\n",
        "    'age': 25\n",
        "}\n",
        "\n",
        "score1 = score_applicant(applicant1)\n",
        "print(f\"Applicant 1 Score: {score1}\")\n",
        "\n",
        "score2 = score_applicant(applicant2)\n",
        "print(f\"Applicant 2 Score: {score2}\")"
      ],
      "metadata": {
        "colab": {
          "base_uri": "https://localhost:8080/"
        },
        "id": "ITjoHVJHMefQ",
        "outputId": "05dcf779-63e6-4eb2-e13b-1af8758fe0c4"
      },
      "execution_count": 8,
      "outputs": [
        {
          "output_type": "stream",
          "name": "stdout",
          "text": [
            "Applicant 1 Score: 60\n",
            "Applicant 2 Score: 15\n"
          ]
        }
      ]
    },
    {
      "cell_type": "markdown",
      "source": [
        "def score_applicant(applicant):\n",
        "    score = 0\n",
        "    if applicant['education'] in ['Masters', 'PhD']:\n",
        "        score += 30\n",
        "    score += min(applicant['experience'] * 5, 30)  # cap at 30\n",
        "    # Gender & age excluded unless role requires justified constraint\n",
        "    return score\n",
        "\n",
        "# Example usage:\n",
        "applicant1 = {\n",
        "    'education': 'Masters',\n",
        "    'experience': 7, # years\n",
        "    'gender': 'Female',\n",
        "    'age': 30\n",
        "}\n",
        "\n",
        "applicant2 = {\n",
        "    'education': 'Bachelors',\n",
        "    'experience': 3, # years\n",
        "    'gender': 'Male',\n",
        "    'age': 25\n",
        "}\n",
        "\n",
        "score1 = score_applicant(applicant1)\n",
        "print(f\"Applicant 1 Score: {score1}\")\n",
        "\n",
        "score2 = score_applicant(applicant2)\n",
        "print(f\"Applicant 2 Score: {score2}\")"
      ],
      "metadata": {
        "id": "FtQzbcqcMl3l"
      }
    },
    {
      "cell_type": "markdown",
      "source": [
        "Task_05:\n"
      ],
      "metadata": {
        "id": "IY6yG4yXMvcn"
      }
    },
    {
      "cell_type": "code",
      "source": [
        "def greet_user(name, gender):\n",
        "  # Gender neutral greeting as requested\n",
        "  greeting = f\"Welcome, {name}!\"\n",
        "  return greeting\n",
        "\n",
        "# Example usage:\n",
        "print(greet_user(\"John\", \"male\"))\n",
        "print(greet_user(\"Jane\", \"female\"))\n",
        "print(greet_user(\"Alice\", \"FEMALE\")) # Test with different casing"
      ],
      "metadata": {
        "colab": {
          "base_uri": "https://localhost:8080/"
        },
        "id": "b5qaEMvGMzrM",
        "outputId": "57ee0ec3-1f80-4d73-f465-a018ebec342e"
      },
      "execution_count": 9,
      "outputs": [
        {
          "output_type": "stream",
          "name": "stdout",
          "text": [
            "Welcome, John!\n",
            "Welcome, Jane!\n",
            "Welcome, Alice!\n"
          ]
        }
      ]
    },
    {
      "cell_type": "markdown",
      "source": [
        "def greet_user(name, gender):\n",
        "  # Gender neutral greeting as requested\n",
        "  greeting = f\"Welcome, {name}!\"\n",
        "  return greeting\n",
        "\n",
        "# Example usage:\n",
        "print(greet_user(\"John\", \"male\"))\n",
        "print(greet_user(\"Jane\", \"female\"))\n",
        "print(greet_user(\"Alice\", \"FEMALE\")) # Test with different casing"
      ],
      "metadata": {
        "id": "Sq6VAHsYM45Q"
      }
    }
  ]
}