{
  "nbformat": 4,
  "nbformat_minor": 0,
  "metadata": {
    "colab": {
      "provenance": [],
      "authorship_tag": "ABX9TyOUA1e6pS59Q3WYvXM/nOON",
      "include_colab_link": true
    },
    "kernelspec": {
      "name": "python3",
      "display_name": "Python 3"
    },
    "language_info": {
      "name": "python"
    }
  },
  "cells": [
    {
      "cell_type": "markdown",
      "metadata": {
        "id": "view-in-github",
        "colab_type": "text"
      },
      "source": [
        "<a href=\"https://colab.research.google.com/github/2403A51229/1.2_assignment_2403A51229/blob/main/8_2_py.ipynb\" target=\"_parent\"><img src=\"https://colab.research.google.com/assets/colab-badge.svg\" alt=\"Open In Colab\"/></a>"
      ]
    },
    {
      "cell_type": "markdown",
      "source": [
        "TASK-01:"
      ],
      "metadata": {
        "id": "k0ed09I7lNFY"
      }
    },
    {
      "cell_type": "code",
      "execution_count": 1,
      "metadata": {
        "id": "AFBDNafUlJJV"
      },
      "outputs": [],
      "source": [
        "import unittest\n",
        "def is_prime(n):\n",
        "    if not isinstance(n, int) or n <= 1:\n",
        "        return False\n",
        "    if n == 2:\n",
        "        return True\n",
        "    if n % 2 == 0:\n",
        "        return False\n",
        "    for i in range(3, int(n**0.5) + 1, 2):\n",
        "        if n % i == 0:\n",
        "            return False\n",
        "    return True"
      ]
    },
    {
      "cell_type": "markdown",
      "source": [
        "TASK-02:\n"
      ],
      "metadata": {
        "id": "AgDXc-ZglQH-"
      }
    },
    {
      "cell_type": "code",
      "source": [
        " def celsius_to_fahrenheit(c):\n",
        "  if not isinstance(c, (int, float)):\n",
        "    raise TypeError(\"Input must be a number\")\n",
        "    return (c * 9/5) + 32\n",
        "\n",
        " def fahrenheit_to_celsius(f):\n",
        "  if not isinstance(f, (int, float)):\n",
        "    raise TypeError(\"Input must be a number\")\n",
        "    return (f - 32) * 5/9"
      ],
      "metadata": {
        "id": "PLfBxB37lSNc"
      },
      "execution_count": 2,
      "outputs": []
    },
    {
      "cell_type": "markdown",
      "source": [
        "TASK-03:"
      ],
      "metadata": {
        "id": "u4Rm_FsAlS0E"
      }
    },
    {
      "cell_type": "code",
      "source": [
        "def count_words(text):\n",
        "    if not isinstance(text, str):\n",
        "        raise TypeError(\"Input must be a string\")\n",
        "    words = text.strip().split()\n",
        "    return len(words)"
      ],
      "metadata": {
        "id": "WnUnc-PqlUjE"
      },
      "execution_count": 3,
      "outputs": []
    },
    {
      "cell_type": "markdown",
      "source": [
        "TASK-04:"
      ],
      "metadata": {
        "id": "Bhn3gB-5lVEb"
      }
    },
    {
      "cell_type": "code",
      "source": [
        " class BankAccount:\n",
        "    def __init__(self):\n",
        "        self._balance = 0.0\n",
        "\n",
        "    def deposit(self, amount):\n",
        "        if amount <= 0:\n",
        "            raise ValueError(\"Deposit must be positive\")\n",
        "        self._balance += amount\n",
        "\n",
        "    def withdraw(self, amount):\n",
        "        if amount <= 0:\n",
        "            raise ValueError(\"Withdrawal must be positive\")\n",
        "        if amount > self._balance:\n",
        "            raise ValueError(\"Insufficient funds\")\n",
        "        self._balance -= amount\n",
        "\n",
        "    def check_balance(self):\n",
        "        return self._balance"
      ],
      "metadata": {
        "id": "hTYuyHvflWqN"
      },
      "execution_count": 4,
      "outputs": []
    },
    {
      "cell_type": "markdown",
      "source": [
        "TASK-05:"
      ],
      "metadata": {
        "id": "N1p6MWDnlXJb"
      }
    },
    {
      "cell_type": "code",
      "source": [
        "def is_number_palindrome(num):\n",
        "    if not isinstance(num, int) or num < 0:\n",
        "        return False\n",
        "    return str(num) == str(num)[::-1]"
      ],
      "metadata": {
        "id": "Jvn127eRlZcg"
      },
      "execution_count": 5,
      "outputs": []
    }
  ]
}