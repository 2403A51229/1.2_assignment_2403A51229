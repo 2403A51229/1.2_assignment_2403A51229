{
  "nbformat": 4,
  "nbformat_minor": 0,
  "metadata": {
    "colab": {
      "provenance": [],
      "authorship_tag": "ABX9TyPOYf5p9ZuQ0XcI2sMiPHA7",
      "include_colab_link": true
    },
    "kernelspec": {
      "name": "python3",
      "display_name": "Python 3"
    },
    "language_info": {
      "name": "python"
    }
  },
  "cells": [
    {
      "cell_type": "markdown",
      "metadata": {
        "id": "view-in-github",
        "colab_type": "text"
      },
      "source": [
        "<a href=\"https://colab.research.google.com/github/2403A51229/1.2_assignment_2403A51229/blob/main/2403a51229_labtest_02.ipynb\" target=\"_parent\"><img src=\"https://colab.research.google.com/assets/colab-badge.svg\" alt=\"Open In Colab\"/></a>"
      ]
    },
    {
      "cell_type": "code",
      "source": [
        "SET-K:"
      ],
      "metadata": {
        "id": "IwTGeKCBlxmM"
      },
      "execution_count": null,
      "outputs": []
    },
    {
      "cell_type": "markdown",
      "source": [
        "TASK-01:"
      ],
      "metadata": {
        "id": "9STUqF0-lxIh"
      }
    },
    {
      "cell_type": "markdown",
      "metadata": {
        "id": "7624eae1"
      },
      "source": [
        "PROMPT:\n",
        "\n",
        "Implement a function to rotate an 3x3 matrix 90° clockwise in-place."
      ]
    },
    {
      "cell_type": "code",
      "metadata": {
        "colab": {
          "base_uri": "https://localhost:8080/"
        },
        "id": "0b10921f",
        "outputId": "f6195872-eeb3-45b0-f6d1-a4930c3e6b65"
      },
      "source": [
        "import copy\n",
        "def test_rotate_matrix(input_matrix, expected_matrix):\n",
        "  matrix_copy = copy.deepcopy(input_matrix)\n",
        "  rotate_matrix(matrix_copy)\n",
        "  assert matrix_copy == expected_matrix, f\"For input {input_matrix}, expected {expected_matrix}, but got {matrix_copy}\"\n",
        "  print(f\"Test passed for input: {input_matrix}\")\n",
        "# 3x3 matrix\n",
        "input_3x3 = [[1, 2, 3], [4, 5, 6], [7, 8, 9]]\n",
        "expected_3x3 = [[7, 4, 1], [8, 5, 2], [9, 6, 3]]\n",
        "test_rotate_matrix(input_3x3, expected_3x3)"
      ],
      "execution_count": null,
      "outputs": [
        {
          "output_type": "stream",
          "name": "stdout",
          "text": [
            "Test passed for input: [[1, 2, 3], [4, 5, 6], [7, 8, 9]]\n"
          ]
        }
      ]
    },
    {
      "cell_type": "markdown",
      "source": [
        "EXPLANATION:"
      ],
      "metadata": {
        "id": "L0v8280Gs8lX"
      }
    },
    {
      "cell_type": "markdown",
      "source": [
        "*The code defines a test function test_rotate_matrix that takes an input matrix and its expected rotated form.\n",
        "\n",
        "*It creates a copy of the input matrix, rotates it using a separate rotate_matrix function, and then compares the result with the expected matrix using an assertion.\n",
        "\n",
        "*Included are specific test cases for 3x3 matrices to verify the correctness of the rotate_matrix function."
      ],
      "metadata": {
        "id": "0NIkf3A3s-Z9"
      }
    },
    {
      "cell_type": "markdown",
      "source": [
        "TASK-02:"
      ],
      "metadata": {
        "id": "35p-tBEAl8RY"
      }
    },
    {
      "cell_type": "markdown",
      "metadata": {
        "id": "82c05c2e"
      },
      "source": [
        "PROMPT:\n",
        "\n",
        "Give `old` and `new` lists of lines, return (added, removed) preserving the display order using sets but keep stable ordering via list comprehensions\n"
      ]
    },
    {
      "cell_type": "code",
      "metadata": {
        "colab": {
          "base_uri": "https://localhost:8080/"
        },
        "id": "a60b5b2d",
        "outputId": "9e5c4008-5a69-4a8e-aa69-777b6c492659"
      },
      "source": [
        "def compute_diff(old, new):\n",
        "  old_set = set(old)\n",
        "  new_set = set(new)\n",
        "  added = [item for item in new if item not in old_set]\n",
        "  removed = [item for item in old if item not in new_set]\n",
        "  return added, removed\n",
        "# Sample Input\n",
        "old = ['a', 'b', 'c']\n",
        "new = ['b', 'c', 'd']\n",
        "added_lines, removed_lines = compute_diff(old, new)\n",
        "print(f\"Original 'old' list: {old}\")\n",
        "print(f\"Original 'new' list: {new}\")\n",
        "print(f\"Added lines: {added_lines}\")\n",
        "print(f\"Removed lines: {removed_lines}\")"
      ],
      "execution_count": null,
      "outputs": [
        {
          "output_type": "stream",
          "name": "stdout",
          "text": [
            "Original 'old' list: ['a', 'b', 'c']\n",
            "Original 'new' list: ['b', 'c', 'd']\n",
            "Added lines: ['d']\n",
            "Removed lines: ['a']\n"
          ]
        }
      ]
    },
    {
      "cell_type": "markdown",
      "source": [
        "EXPLANATION:"
      ],
      "metadata": {
        "id": "ZwdPt8IbsxYC"
      }
    },
    {
      "cell_type": "markdown",
      "source": [
        "*The code defines a function compute_diff that takes two lists, old and new, as input.\n",
        "\n",
        "*It uses sets to efficiently find the differences between the two lists.\n",
        "\n",
        "*List comprehensions are then used to create the added and removed lists, preserving the original order of items from the new and old lists respectively."
      ],
      "metadata": {
        "id": "i9pw2DTJszP4"
      }
    }
  ]
}