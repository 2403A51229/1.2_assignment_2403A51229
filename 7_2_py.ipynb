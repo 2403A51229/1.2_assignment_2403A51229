{
  "nbformat": 4,
  "nbformat_minor": 0,
  "metadata": {
    "colab": {
      "provenance": [],
      "authorship_tag": "ABX9TyPV1RG1ZDFfAV68PYu6VVrz",
      "include_colab_link": true
    },
    "kernelspec": {
      "name": "python3",
      "display_name": "Python 3"
    },
    "language_info": {
      "name": "python"
    }
  },
  "cells": [
    {
      "cell_type": "markdown",
      "metadata": {
        "id": "view-in-github",
        "colab_type": "text"
      },
      "source": [
        "<a href=\"https://colab.research.google.com/github/2403A51229/1.2_assignment_2403A51229/blob/main/7_2_py.ipynb\" target=\"_parent\"><img src=\"https://colab.research.google.com/assets/colab-badge.svg\" alt=\"Open In Colab\"/></a>"
      ]
    },
    {
      "cell_type": "code",
      "source": [
        "TASK-01:"
      ],
      "metadata": {
        "id": "Da0L_oD67aZz"
      },
      "execution_count": null,
      "outputs": []
    },
    {
      "cell_type": "markdown",
      "source": [
        "ERROR CODE:"
      ],
      "metadata": {
        "id": "GLeq0Lq57D6y"
      }
    },
    {
      "cell_type": "code",
      "execution_count": 1,
      "metadata": {
        "colab": {
          "base_uri": "https://localhost:8080/",
          "height": 106
        },
        "id": "GGoYFVBc6sHh",
        "outputId": "0602e21b-2ef3-4705-93df-98ab4a3683db"
      },
      "outputs": [
        {
          "output_type": "error",
          "ename": "SyntaxError",
          "evalue": "invalid syntax. Maybe you meant '==' or ':=' instead of '='? (ipython-input-3321157939.py, line 2)",
          "traceback": [
            "\u001b[0;36m  File \u001b[0;32m\"/tmp/ipython-input-3321157939.py\"\u001b[0;36m, line \u001b[0;32m2\u001b[0m\n\u001b[0;31m    if a = 8;\u001b[0m\n\u001b[0m       ^\u001b[0m\n\u001b[0;31mSyntaxError\u001b[0m\u001b[0;31m:\u001b[0m invalid syntax. Maybe you meant '==' or ':=' instead of '='?\n"
          ]
        }
      ],
      "source": [
        "a = 8\n",
        "if a = 8;\n",
        "print(\"Equal\")\n"
      ]
    },
    {
      "cell_type": "markdown",
      "source": [
        "CORRECTED CODE:"
      ],
      "metadata": {
        "id": "IyEzoq9I7JL9"
      }
    },
    {
      "cell_type": "code",
      "source": [
        "a = 8\n",
        "if a == 8:\n",
        "  print(\"Equal\")"
      ],
      "metadata": {
        "colab": {
          "base_uri": "https://localhost:8080/"
        },
        "id": "h-xoz2yG7Lrn",
        "outputId": "2a12e670-2dc8-41b8-c3cd-0788e72ecd3d"
      },
      "execution_count": 3,
      "outputs": [
        {
          "output_type": "stream",
          "name": "stdout",
          "text": [
            "Equal\n"
          ]
        }
      ]
    },
    {
      "cell_type": "markdown",
      "source": [
        "TASK-02:"
      ],
      "metadata": {
        "id": "bWgkE8Pg7fX3"
      }
    },
    {
      "cell_type": "markdown",
      "source": [
        "CORRECTED CODE:"
      ],
      "metadata": {
        "id": "bJh_ESBE7hzC"
      }
    },
    {
      "cell_type": "code",
      "source": [
        "def sum_upto_n(n):\n",
        "  total = 0\n",
        "  for i in range(1, n):\n",
        "    total += i\n",
        "  return total\n",
        "print(sum_upto_n(10))"
      ],
      "metadata": {
        "colab": {
          "base_uri": "https://localhost:8080/"
        },
        "id": "lijR8MYM7jrT",
        "outputId": "6921fb8b-28c1-46e1-d155-401c88342068"
      },
      "execution_count": 22,
      "outputs": [
        {
          "output_type": "stream",
          "name": "stdout",
          "text": [
            "45\n"
          ]
        }
      ]
    },
    {
      "cell_type": "code",
      "source": [
        "def sum_upto_n(n):\n",
        "  total = 0\n",
        "  for i in range(1, n + 1):\n",
        "    total += i\n",
        "  return total\n",
        "print(sum_upto_n(10))"
      ],
      "metadata": {
        "colab": {
          "base_uri": "https://localhost:8080/"
        },
        "id": "GZyg9LJJEjhv",
        "outputId": "414ae770-47b0-4841-f331-7e8a121fb02b"
      },
      "execution_count": 24,
      "outputs": [
        {
          "output_type": "stream",
          "name": "stdout",
          "text": [
            "55\n"
          ]
        }
      ]
    },
    {
      "cell_type": "code",
      "source": [
        "TASK-03"
      ],
      "metadata": {
        "id": "HI7qWwpq8WpH"
      },
      "execution_count": null,
      "outputs": []
    },
    {
      "cell_type": "markdown",
      "source": [
        "ERROR CODE:"
      ],
      "metadata": {
        "id": "1WMNbcMy-r_r"
      }
    },
    {
      "cell_type": "code",
      "source": [
        "class user:\n",
        "  def __init__(self,name):\n",
        "    self.name = name\n",
        "\n",
        "u = user(\"Alice\")\n",
        "prit(u.getname())\n"
      ],
      "metadata": {
        "colab": {
          "base_uri": "https://localhost:8080/",
          "height": 176
        },
        "id": "-ei-Jtwb8ZAe",
        "outputId": "3a6844bf-3866-40fa-c6f7-ef7d47723692"
      },
      "execution_count": 7,
      "outputs": [
        {
          "output_type": "error",
          "ename": "NameError",
          "evalue": "name 'prit' is not defined",
          "traceback": [
            "\u001b[0;31m---------------------------------------------------------------------------\u001b[0m",
            "\u001b[0;31mNameError\u001b[0m                                 Traceback (most recent call last)",
            "\u001b[0;32m/tmp/ipython-input-544651181.py\u001b[0m in \u001b[0;36m<cell line: 0>\u001b[0;34m()\u001b[0m\n\u001b[1;32m      4\u001b[0m \u001b[0;34m\u001b[0m\u001b[0m\n\u001b[1;32m      5\u001b[0m \u001b[0mu\u001b[0m \u001b[0;34m=\u001b[0m \u001b[0muser\u001b[0m\u001b[0;34m(\u001b[0m\u001b[0;34m\"Alice\"\u001b[0m\u001b[0;34m)\u001b[0m\u001b[0;34m\u001b[0m\u001b[0;34m\u001b[0m\u001b[0m\n\u001b[0;32m----> 6\u001b[0;31m \u001b[0mprit\u001b[0m\u001b[0;34m(\u001b[0m\u001b[0mu\u001b[0m\u001b[0;34m.\u001b[0m\u001b[0mgetname\u001b[0m\u001b[0;34m(\u001b[0m\u001b[0;34m)\u001b[0m\u001b[0;34m)\u001b[0m\u001b[0;34m\u001b[0m\u001b[0;34m\u001b[0m\u001b[0m\n\u001b[0m",
            "\u001b[0;31mNameError\u001b[0m: name 'prit' is not defined"
          ]
        }
      ]
    },
    {
      "cell_type": "markdown",
      "source": [
        "CORRECTED CODE:"
      ],
      "metadata": {
        "id": "t_ArB0y29Id1"
      }
    },
    {
      "cell_type": "code",
      "source": [
        "class user:\n",
        "  def __init__(self,name):\n",
        "    self.name = name\n",
        "\n",
        "  def getname(self):\n",
        "    return self.name\n",
        "\n",
        "u = user(\"Alice\")\n",
        "print(u.getname())"
      ],
      "metadata": {
        "colab": {
          "base_uri": "https://localhost:8080/"
        },
        "id": "dT3e7h-y9O6b",
        "outputId": "fb34743c-0835-48c9-e160-ba6c52c2c885"
      },
      "execution_count": 9,
      "outputs": [
        {
          "output_type": "stream",
          "name": "stdout",
          "text": [
            "Alice\n"
          ]
        }
      ]
    },
    {
      "cell_type": "markdown",
      "source": [
        "TASK-04:"
      ],
      "metadata": {
        "id": "SlZJI26S9Xd3"
      }
    },
    {
      "cell_type": "markdown",
      "source": [
        "ERROR CODE:"
      ],
      "metadata": {
        "id": "oV1WekPo-vPy"
      }
    },
    {
      "cell_type": "code",
      "source": [
        "class car:\n",
        "  def start();\n",
        "  print(\"car started\")\n",
        "\n",
        "mycar = car()\n",
        "mycar.start()"
      ],
      "metadata": {
        "colab": {
          "base_uri": "https://localhost:8080/",
          "height": 106
        },
        "id": "BsLT68k_9ZVz",
        "outputId": "6296c3bf-01e4-4a0d-c18e-7ef6ee4bc3ec"
      },
      "execution_count": 10,
      "outputs": [
        {
          "output_type": "error",
          "ename": "SyntaxError",
          "evalue": "expected ':' (ipython-input-546976225.py, line 2)",
          "traceback": [
            "\u001b[0;36m  File \u001b[0;32m\"/tmp/ipython-input-546976225.py\"\u001b[0;36m, line \u001b[0;32m2\u001b[0m\n\u001b[0;31m    def start();\u001b[0m\n\u001b[0m               ^\u001b[0m\n\u001b[0;31mSyntaxError\u001b[0m\u001b[0;31m:\u001b[0m expected ':'\n"
          ]
        }
      ]
    },
    {
      "cell_type": "markdown",
      "source": [
        "CORRECTED CODE:"
      ],
      "metadata": {
        "id": "KZKtgs0D9_MC"
      }
    },
    {
      "cell_type": "code",
      "source": [
        "class car:\n",
        "  def start(self):\n",
        "    print(\"car started\")\n",
        "\n",
        "mycar = car()\n",
        "mycar.start()"
      ],
      "metadata": {
        "colab": {
          "base_uri": "https://localhost:8080/"
        },
        "id": "58tASMzC-CZN",
        "outputId": "0598fe4d-6b8b-4097-8405-f34947f42a45"
      },
      "execution_count": 12,
      "outputs": [
        {
          "output_type": "stream",
          "name": "stdout",
          "text": [
            "car started\n"
          ]
        }
      ]
    },
    {
      "cell_type": "markdown",
      "source": [
        "TASK-05:"
      ],
      "metadata": {
        "id": "c2wxoYKz-xmb"
      }
    },
    {
      "cell_type": "markdown",
      "source": [
        "ERROR CODE:"
      ],
      "metadata": {
        "id": "OHOdzJyz-0Kt"
      }
    },
    {
      "cell_type": "code",
      "source": [
        "def grade_students(score):\n",
        "  if score < 40:\n",
        "    return \"A\"\n",
        "  elif score < 70:\n",
        "    return \"B\"\n",
        "  else:\n",
        "    return \"C\"\n",
        "print(grade_students(55))"
      ],
      "metadata": {
        "colab": {
          "base_uri": "https://localhost:8080/"
        },
        "id": "OJxJIlzx-16_",
        "outputId": "1044c98e-54d0-4c21-cdb4-0f1d645a017a"
      },
      "execution_count": 32,
      "outputs": [
        {
          "output_type": "stream",
          "name": "stdout",
          "text": [
            "B\n"
          ]
        }
      ]
    },
    {
      "cell_type": "markdown",
      "source": [
        "detecting illogical grading and correcting the grade levels:"
      ],
      "metadata": {
        "id": "AL-yr72i_h4v"
      }
    },
    {
      "cell_type": "code",
      "source": [
        "def grade_students(score):\n",
        "  if score >= 70:\n",
        "    return \"A\"\n",
        "  elif score >= 40:\n",
        "    return \"B\"\n",
        "  else:\n",
        "    return \"C\"\n",
        "\n",
        "print(grade_students(55))"
      ],
      "metadata": {
        "colab": {
          "base_uri": "https://localhost:8080/"
        },
        "id": "RBjdxkyk_hcA",
        "outputId": "8d59cb86-e2e9-4ba2-ec0e-ca901fd6ba6b"
      },
      "execution_count": 33,
      "outputs": [
        {
          "output_type": "stream",
          "name": "stdout",
          "text": [
            "B\n"
          ]
        }
      ]
    }
  ]
}